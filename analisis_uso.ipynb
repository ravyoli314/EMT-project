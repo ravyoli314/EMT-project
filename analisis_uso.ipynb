{
 "cells": [
  {
   "cell_type": "markdown",
   "metadata": {},
   "source": [
    "# Introducción"
   ]
  },
  {
   "cell_type": "markdown",
   "metadata": {},
   "source": [
    "En este notebook nos centramos en limpiar y analizar nuestro dataset del uso de las bicis de BiciMad (datos de todo el mes de junio de 2019). \n",
    "\n",
    "Inicialmente, nos quedamos con las variables que determinan, según el día y la hora, el tipo de usuario que ha cogido una bici, su edad, de dónde a dónde ha viajado, y el tiempo que le ha llevado."
   ]
  },
  {
   "cell_type": "code",
   "execution_count": 2,
   "metadata": {},
   "outputs": [],
   "source": [
    "%matplotlib inline\n",
    "import pandas as pd\n",
    "import numpy as np\n",
    "import math\n",
    "import dateutil.parser\n",
    "from pandas.io.json import json_normalize\n",
    "import json\n",
    "import matplotlib.pyplot as plt  \n",
    "import seaborn as seabornInstance "
   ]
  },
  {
   "cell_type": "code",
   "execution_count": 3,
   "metadata": {},
   "outputs": [],
   "source": [
    "# import xgboost as xgb\n",
    "from sklearn.metrics import mean_squared_error"
   ]
  },
  {
   "cell_type": "code",
   "execution_count": 4,
   "metadata": {},
   "outputs": [],
   "source": [
    "USAGE = '201906_Usage_Bicimad.json'"
   ]
  },
  {
   "cell_type": "markdown",
   "metadata": {},
   "source": [
    "#  Limpieza de datos"
   ]
  },
  {
   "cell_type": "code",
   "execution_count": 5,
   "metadata": {},
   "outputs": [],
   "source": [
    "usage_df = pd.read_json(USAGE, lines=True)"
   ]
  },
  {
   "cell_type": "code",
   "execution_count": 6,
   "metadata": {},
   "outputs": [],
   "source": [
    "usage_df['unplug_hourTime'] = json_normalize(usage_df['unplug_hourTime'])"
   ]
  },
  {
   "cell_type": "code",
   "execution_count": 7,
   "metadata": {},
   "outputs": [
    {
     "data": {
      "text/html": [
       "<div>\n",
       "<style scoped>\n",
       "    .dataframe tbody tr th:only-of-type {\n",
       "        vertical-align: middle;\n",
       "    }\n",
       "\n",
       "    .dataframe tbody tr th {\n",
       "        vertical-align: top;\n",
       "    }\n",
       "\n",
       "    .dataframe thead th {\n",
       "        text-align: right;\n",
       "    }\n",
       "</style>\n",
       "<table border=\"1\" class=\"dataframe\">\n",
       "  <thead>\n",
       "    <tr style=\"text-align: right;\">\n",
       "      <th></th>\n",
       "      <th>_id</th>\n",
       "      <th>user_day_code</th>\n",
       "      <th>idplug_base</th>\n",
       "      <th>user_type</th>\n",
       "      <th>idunplug_base</th>\n",
       "      <th>travel_time</th>\n",
       "      <th>idunplug_station</th>\n",
       "      <th>ageRange</th>\n",
       "      <th>idplug_station</th>\n",
       "      <th>unplug_hourTime</th>\n",
       "      <th>zip_code</th>\n",
       "      <th>track</th>\n",
       "    </tr>\n",
       "  </thead>\n",
       "  <tbody>\n",
       "    <tr>\n",
       "      <td>0</td>\n",
       "      <td>{'$oid': '5cf83b752f3843a016be4e2f'}</td>\n",
       "      <td>e4d55deb9ac172a8d8f5f0a32599815bd51b7c8760d67e...</td>\n",
       "      <td>21</td>\n",
       "      <td>1</td>\n",
       "      <td>8</td>\n",
       "      <td>219</td>\n",
       "      <td>90</td>\n",
       "      <td>0</td>\n",
       "      <td>66</td>\n",
       "      <td>2019-06-01T00:00:00.000+0200</td>\n",
       "      <td></td>\n",
       "      <td>NaN</td>\n",
       "    </tr>\n",
       "    <tr>\n",
       "      <td>1</td>\n",
       "      <td>{'$oid': '5cf83b762f3843a016be4e48'}</td>\n",
       "      <td>8a0c4123e924a50a958f51985eb71aea750fb072438035...</td>\n",
       "      <td>19</td>\n",
       "      <td>1</td>\n",
       "      <td>19</td>\n",
       "      <td>359</td>\n",
       "      <td>71</td>\n",
       "      <td>4</td>\n",
       "      <td>136</td>\n",
       "      <td>2019-06-01T00:00:00.000+0200</td>\n",
       "      <td>28039</td>\n",
       "      <td>NaN</td>\n",
       "    </tr>\n",
       "  </tbody>\n",
       "</table>\n",
       "</div>"
      ],
      "text/plain": [
       "                                    _id  \\\n",
       "0  {'$oid': '5cf83b752f3843a016be4e2f'}   \n",
       "1  {'$oid': '5cf83b762f3843a016be4e48'}   \n",
       "\n",
       "                                       user_day_code  idplug_base  user_type  \\\n",
       "0  e4d55deb9ac172a8d8f5f0a32599815bd51b7c8760d67e...           21          1   \n",
       "1  8a0c4123e924a50a958f51985eb71aea750fb072438035...           19          1   \n",
       "\n",
       "   idunplug_base  travel_time  idunplug_station  ageRange  idplug_station  \\\n",
       "0              8          219                90         0              66   \n",
       "1             19          359                71         4             136   \n",
       "\n",
       "                unplug_hourTime zip_code track  \n",
       "0  2019-06-01T00:00:00.000+0200            NaN  \n",
       "1  2019-06-01T00:00:00.000+0200    28039   NaN  "
      ]
     },
     "execution_count": 7,
     "metadata": {},
     "output_type": "execute_result"
    }
   ],
   "source": [
    "usage_df.head(2)"
   ]
  },
  {
   "cell_type": "markdown",
   "metadata": {},
   "source": [
    "Vemos que la fecha en que se coge la bicicleta viene en el siguiente formato: 2019-06-01T00:00:00.000+0200 (ejemplo). Para que resulte más explicativa, la transformamos en dos columnas independientes (día y hora)."
   ]
  },
  {
   "cell_type": "code",
   "execution_count": 8,
   "metadata": {},
   "outputs": [],
   "source": [
    "import datetime\n",
    "usage_df['unplug_hourTime'] = pd.to_datetime(usage_df['unplug_hourTime']).dt.strftime(\"%m-%d-%Y, %H:%M:%S\")"
   ]
  },
  {
   "cell_type": "code",
   "execution_count": 9,
   "metadata": {},
   "outputs": [],
   "source": [
    "new = usage_df[\"unplug_hourTime\"].str.split(\", \", n = 1, expand = True) "
   ]
  },
  {
   "cell_type": "code",
   "execution_count": 10,
   "metadata": {},
   "outputs": [],
   "source": [
    "usage_df['unplug_date'] = new[0]\n",
    "usage_df['unplug_hour'] = new[1]"
   ]
  },
  {
   "cell_type": "code",
   "execution_count": 11,
   "metadata": {
    "scrolled": true
   },
   "outputs": [],
   "source": [
    "usage_df.drop(columns =[\"unplug_hourTime\"], inplace = True) "
   ]
  },
  {
   "cell_type": "markdown",
   "metadata": {},
   "source": [
    "A continuación, miramos si hay valores nulos de 'zipcode': \n",
    "\n",
    "- no disponemos del código zip de 221839 usuarios (¡casi la mitad!) así que parece que esta variable en principio no nos interesa."
   ]
  },
  {
   "cell_type": "code",
   "execution_count": 12,
   "metadata": {},
   "outputs": [],
   "source": [
    "def make_int(s):\n",
    "    s = s.strip()\n",
    "    if s.isdigit() and len(s) <= 8:\n",
    "        return int(s)\n",
    "    else: return 0"
   ]
  },
  {
   "cell_type": "code",
   "execution_count": 13,
   "metadata": {},
   "outputs": [],
   "source": [
    "usage_df['zip_code'] = usage_df['zip_code'].apply(lambda x: make_int(x))"
   ]
  },
  {
   "cell_type": "code",
   "execution_count": 14,
   "metadata": {},
   "outputs": [],
   "source": [
    "usage_df = usage_df.drop(['_id', 'user_day_code', 'idplug_base', 'idunplug_base', 'track'], axis = 1)"
   ]
  },
  {
   "cell_type": "code",
   "execution_count": 15,
   "metadata": {},
   "outputs": [
    {
     "data": {
      "text/plain": [
       "user_type           221839\n",
       "travel_time         221839\n",
       "idunplug_station    221839\n",
       "ageRange            221839\n",
       "idplug_station      221839\n",
       "zip_code            221839\n",
       "unplug_date         221839\n",
       "unplug_hour         221839\n",
       "dtype: int64"
      ]
     },
     "execution_count": 15,
     "metadata": {},
     "output_type": "execute_result"
    }
   ],
   "source": [
    "#hay usuarios con zip code == 0 (ruido, eliminamos también esta feature)\n",
    "usage_df[usage_df['zip_code'] == 0].count()"
   ]
  },
  {
   "cell_type": "code",
   "execution_count": 16,
   "metadata": {},
   "outputs": [
    {
     "data": {
      "text/plain": [
       "450811"
      ]
     },
     "execution_count": 16,
     "metadata": {},
     "output_type": "execute_result"
    }
   ],
   "source": [
    "usage_df['zip_code'].count()"
   ]
  },
  {
   "cell_type": "code",
   "execution_count": 17,
   "metadata": {},
   "outputs": [],
   "source": [
    "usage_df = usage_df.drop('zip_code', axis = 1)"
   ]
  },
  {
   "cell_type": "code",
   "execution_count": 18,
   "metadata": {
    "scrolled": false
   },
   "outputs": [
    {
     "data": {
      "text/html": [
       "<div>\n",
       "<style scoped>\n",
       "    .dataframe tbody tr th:only-of-type {\n",
       "        vertical-align: middle;\n",
       "    }\n",
       "\n",
       "    .dataframe tbody tr th {\n",
       "        vertical-align: top;\n",
       "    }\n",
       "\n",
       "    .dataframe thead th {\n",
       "        text-align: right;\n",
       "    }\n",
       "</style>\n",
       "<table border=\"1\" class=\"dataframe\">\n",
       "  <thead>\n",
       "    <tr style=\"text-align: right;\">\n",
       "      <th></th>\n",
       "      <th>user_type</th>\n",
       "      <th>travel_time</th>\n",
       "      <th>idunplug_station</th>\n",
       "      <th>ageRange</th>\n",
       "      <th>idplug_station</th>\n",
       "      <th>unplug_date</th>\n",
       "      <th>unplug_hour</th>\n",
       "    </tr>\n",
       "  </thead>\n",
       "  <tbody>\n",
       "    <tr>\n",
       "      <td>0</td>\n",
       "      <td>1</td>\n",
       "      <td>219</td>\n",
       "      <td>90</td>\n",
       "      <td>0</td>\n",
       "      <td>66</td>\n",
       "      <td>06-01-2019</td>\n",
       "      <td>00:00:00</td>\n",
       "    </tr>\n",
       "    <tr>\n",
       "      <td>1</td>\n",
       "      <td>1</td>\n",
       "      <td>359</td>\n",
       "      <td>71</td>\n",
       "      <td>4</td>\n",
       "      <td>136</td>\n",
       "      <td>06-01-2019</td>\n",
       "      <td>00:00:00</td>\n",
       "    </tr>\n",
       "    <tr>\n",
       "      <td>2</td>\n",
       "      <td>1</td>\n",
       "      <td>375</td>\n",
       "      <td>39</td>\n",
       "      <td>4</td>\n",
       "      <td>38</td>\n",
       "      <td>06-01-2019</td>\n",
       "      <td>00:00:00</td>\n",
       "    </tr>\n",
       "    <tr>\n",
       "      <td>3</td>\n",
       "      <td>1</td>\n",
       "      <td>264</td>\n",
       "      <td>66</td>\n",
       "      <td>5</td>\n",
       "      <td>90</td>\n",
       "      <td>06-01-2019</td>\n",
       "      <td>00:00:00</td>\n",
       "    </tr>\n",
       "    <tr>\n",
       "      <td>4</td>\n",
       "      <td>1</td>\n",
       "      <td>367</td>\n",
       "      <td>152</td>\n",
       "      <td>4</td>\n",
       "      <td>166</td>\n",
       "      <td>06-01-2019</td>\n",
       "      <td>00:00:00</td>\n",
       "    </tr>\n",
       "  </tbody>\n",
       "</table>\n",
       "</div>"
      ],
      "text/plain": [
       "   user_type  travel_time  idunplug_station  ageRange  idplug_station  \\\n",
       "0          1          219                90         0              66   \n",
       "1          1          359                71         4             136   \n",
       "2          1          375                39         4              38   \n",
       "3          1          264                66         5              90   \n",
       "4          1          367               152         4             166   \n",
       "\n",
       "  unplug_date unplug_hour  \n",
       "0  06-01-2019    00:00:00  \n",
       "1  06-01-2019    00:00:00  \n",
       "2  06-01-2019    00:00:00  \n",
       "3  06-01-2019    00:00:00  \n",
       "4  06-01-2019    00:00:00  "
      ]
     },
     "execution_count": 18,
     "metadata": {},
     "output_type": "execute_result"
    }
   ],
   "source": [
    "usage_df.head()"
   ]
  },
  {
   "cell_type": "code",
   "execution_count": 19,
   "metadata": {
    "scrolled": false
   },
   "outputs": [
    {
     "data": {
      "text/plain": [
       "(450811, 7)"
      ]
     },
     "execution_count": 19,
     "metadata": {},
     "output_type": "execute_result"
    }
   ],
   "source": [
    "usage_df.shape"
   ]
  },
  {
   "cell_type": "markdown",
   "metadata": {},
   "source": [
    "# Limpieza: de cara al modelo de predicción"
   ]
  },
  {
   "cell_type": "markdown",
   "metadata": {},
   "source": [
    "Los datos de nuestro dataset son de un único mes (junio 2019), por lo que el mes y el año en la columna 'unplug_date' no resulta de especial relevancia. Sin embargo, podemos analizar el día de la semana en que se desengancha cada bici, y que resulte una característica útil a la hora de hacer una predicción. Lo mismo ocurre con la hora de desenganche: los minutos y segundos son 0, así que traducimos esta columna a enteros que representan la hora (0-23)."
   ]
  },
  {
   "cell_type": "code",
   "execution_count": 20,
   "metadata": {
    "scrolled": false
   },
   "outputs": [
    {
     "data": {
      "text/html": [
       "<div>\n",
       "<style scoped>\n",
       "    .dataframe tbody tr th:only-of-type {\n",
       "        vertical-align: middle;\n",
       "    }\n",
       "\n",
       "    .dataframe tbody tr th {\n",
       "        vertical-align: top;\n",
       "    }\n",
       "\n",
       "    .dataframe thead th {\n",
       "        text-align: right;\n",
       "    }\n",
       "</style>\n",
       "<table border=\"1\" class=\"dataframe\">\n",
       "  <thead>\n",
       "    <tr style=\"text-align: right;\">\n",
       "      <th></th>\n",
       "      <th>user_type</th>\n",
       "      <th>travel_time</th>\n",
       "      <th>idunplug_station</th>\n",
       "      <th>ageRange</th>\n",
       "      <th>idplug_station</th>\n",
       "      <th>unplug_date</th>\n",
       "      <th>unplug_hour</th>\n",
       "    </tr>\n",
       "  </thead>\n",
       "  <tbody>\n",
       "    <tr>\n",
       "      <td>0</td>\n",
       "      <td>1</td>\n",
       "      <td>219</td>\n",
       "      <td>90</td>\n",
       "      <td>0</td>\n",
       "      <td>66</td>\n",
       "      <td>06-01-2019</td>\n",
       "      <td>00:00:00</td>\n",
       "    </tr>\n",
       "    <tr>\n",
       "      <td>1</td>\n",
       "      <td>1</td>\n",
       "      <td>359</td>\n",
       "      <td>71</td>\n",
       "      <td>4</td>\n",
       "      <td>136</td>\n",
       "      <td>06-01-2019</td>\n",
       "      <td>00:00:00</td>\n",
       "    </tr>\n",
       "    <tr>\n",
       "      <td>2</td>\n",
       "      <td>1</td>\n",
       "      <td>375</td>\n",
       "      <td>39</td>\n",
       "      <td>4</td>\n",
       "      <td>38</td>\n",
       "      <td>06-01-2019</td>\n",
       "      <td>00:00:00</td>\n",
       "    </tr>\n",
       "  </tbody>\n",
       "</table>\n",
       "</div>"
      ],
      "text/plain": [
       "   user_type  travel_time  idunplug_station  ageRange  idplug_station  \\\n",
       "0          1          219                90         0              66   \n",
       "1          1          359                71         4             136   \n",
       "2          1          375                39         4              38   \n",
       "\n",
       "  unplug_date unplug_hour  \n",
       "0  06-01-2019    00:00:00  \n",
       "1  06-01-2019    00:00:00  \n",
       "2  06-01-2019    00:00:00  "
      ]
     },
     "execution_count": 20,
     "metadata": {},
     "output_type": "execute_result"
    }
   ],
   "source": [
    "usage_df.head(3)"
   ]
  },
  {
   "cell_type": "code",
   "execution_count": 21,
   "metadata": {},
   "outputs": [],
   "source": [
    "usage_df['day'] = pd.DatetimeIndex(usage_df['unplug_date']).day"
   ]
  },
  {
   "cell_type": "code",
   "execution_count": 22,
   "metadata": {},
   "outputs": [],
   "source": [
    "usage_df['unplug_hour'] = pd.DatetimeIndex(usage_df['unplug_hour']).hour"
   ]
  },
  {
   "cell_type": "code",
   "execution_count": 23,
   "metadata": {},
   "outputs": [],
   "source": [
    "usage_df = usage_df.drop('unplug_date', axis = 1)"
   ]
  },
  {
   "cell_type": "code",
   "execution_count": 24,
   "metadata": {
    "scrolled": true
   },
   "outputs": [
    {
     "data": {
      "text/html": [
       "<div>\n",
       "<style scoped>\n",
       "    .dataframe tbody tr th:only-of-type {\n",
       "        vertical-align: middle;\n",
       "    }\n",
       "\n",
       "    .dataframe tbody tr th {\n",
       "        vertical-align: top;\n",
       "    }\n",
       "\n",
       "    .dataframe thead th {\n",
       "        text-align: right;\n",
       "    }\n",
       "</style>\n",
       "<table border=\"1\" class=\"dataframe\">\n",
       "  <thead>\n",
       "    <tr style=\"text-align: right;\">\n",
       "      <th></th>\n",
       "      <th>user_type</th>\n",
       "      <th>travel_time</th>\n",
       "      <th>idunplug_station</th>\n",
       "      <th>ageRange</th>\n",
       "      <th>idplug_station</th>\n",
       "      <th>unplug_hour</th>\n",
       "      <th>day</th>\n",
       "    </tr>\n",
       "  </thead>\n",
       "  <tbody>\n",
       "    <tr>\n",
       "      <td>450808</td>\n",
       "      <td>1</td>\n",
       "      <td>1558</td>\n",
       "      <td>172</td>\n",
       "      <td>0</td>\n",
       "      <td>174</td>\n",
       "      <td>23</td>\n",
       "      <td>26</td>\n",
       "    </tr>\n",
       "    <tr>\n",
       "      <td>450809</td>\n",
       "      <td>1</td>\n",
       "      <td>2199</td>\n",
       "      <td>35</td>\n",
       "      <td>0</td>\n",
       "      <td>2</td>\n",
       "      <td>23</td>\n",
       "      <td>26</td>\n",
       "    </tr>\n",
       "    <tr>\n",
       "      <td>450810</td>\n",
       "      <td>1</td>\n",
       "      <td>301</td>\n",
       "      <td>30</td>\n",
       "      <td>5</td>\n",
       "      <td>130</td>\n",
       "      <td>23</td>\n",
       "      <td>26</td>\n",
       "    </tr>\n",
       "  </tbody>\n",
       "</table>\n",
       "</div>"
      ],
      "text/plain": [
       "        user_type  travel_time  idunplug_station  ageRange  idplug_station  \\\n",
       "450808          1         1558               172         0             174   \n",
       "450809          1         2199                35         0               2   \n",
       "450810          1          301                30         5             130   \n",
       "\n",
       "        unplug_hour  day  \n",
       "450808           23   26  \n",
       "450809           23   26  \n",
       "450810           23   26  "
      ]
     },
     "execution_count": 24,
     "metadata": {},
     "output_type": "execute_result"
    }
   ],
   "source": [
    "usage_df.tail(3)"
   ]
  },
  {
   "cell_type": "markdown",
   "metadata": {},
   "source": [
    "Pasamos el día del mes a día de la semana (L=1, M=2, X=3, J=4, V=5, S=6, D=7)"
   ]
  },
  {
   "cell_type": "code",
   "execution_count": 25,
   "metadata": {},
   "outputs": [],
   "source": [
    "usage_df['unplug_weekday'] = usage_df['day']"
   ]
  },
  {
   "cell_type": "code",
   "execution_count": 26,
   "metadata": {},
   "outputs": [],
   "source": [
    "usage_df['unplug_weekday'].loc[(usage_df['day'] == 3) | (usage_df['day'] == 10) | (usage_df['day'] == 17) | (usage_df['day'] == 24)] = 1\n",
    "usage_df['unplug_weekday'].loc[(usage_df['day'] == 4) | (usage_df['day'] == 11) | (usage_df['day'] == 18) | (usage_df['day'] == 25)] = 2\n",
    "usage_df['unplug_weekday'].loc[(usage_df['day'] == 5) | (usage_df['day'] == 12) | (usage_df['day'] == 19) | (usage_df['day'] == 26)] = 3\n",
    "usage_df['unplug_weekday'].loc[(usage_df['day'] == 6) | (usage_df['day'] == 13) | (usage_df['day'] == 20) | (usage_df['day'] == 27)] = 4\n",
    "usage_df['unplug_weekday'].loc[(usage_df['day'] == 7) | (usage_df['day'] == 14) | (usage_df['day'] == 21) | (usage_df['day'] == 28)] = 5\n",
    "usage_df['unplug_weekday'].loc[(usage_df['day'] == 1) | (usage_df['day'] == 8) | (usage_df['day'] == 15) | (usage_df['day'] == 22) | (usage_df['day'] == 29)] = 6\n",
    "usage_df['unplug_weekday'].loc[(usage_df['day'] == 2) | (usage_df['day'] == 9) | (usage_df['day'] == 16) | (usage_df['day'] == 23) | (usage_df['day'] == 30)] = 7"
   ]
  },
  {
   "cell_type": "code",
   "execution_count": 27,
   "metadata": {},
   "outputs": [],
   "source": [
    "usage_df = usage_df.drop('day', axis = 1)"
   ]
  },
  {
   "cell_type": "code",
   "execution_count": 28,
   "metadata": {
    "scrolled": false
   },
   "outputs": [
    {
     "data": {
      "text/html": [
       "<div>\n",
       "<style scoped>\n",
       "    .dataframe tbody tr th:only-of-type {\n",
       "        vertical-align: middle;\n",
       "    }\n",
       "\n",
       "    .dataframe tbody tr th {\n",
       "        vertical-align: top;\n",
       "    }\n",
       "\n",
       "    .dataframe thead th {\n",
       "        text-align: right;\n",
       "    }\n",
       "</style>\n",
       "<table border=\"1\" class=\"dataframe\">\n",
       "  <thead>\n",
       "    <tr style=\"text-align: right;\">\n",
       "      <th></th>\n",
       "      <th>user_type</th>\n",
       "      <th>travel_time</th>\n",
       "      <th>idunplug_station</th>\n",
       "      <th>ageRange</th>\n",
       "      <th>idplug_station</th>\n",
       "      <th>unplug_hour</th>\n",
       "      <th>unplug_weekday</th>\n",
       "    </tr>\n",
       "  </thead>\n",
       "  <tbody>\n",
       "    <tr>\n",
       "      <td>0</td>\n",
       "      <td>1</td>\n",
       "      <td>219</td>\n",
       "      <td>90</td>\n",
       "      <td>0</td>\n",
       "      <td>66</td>\n",
       "      <td>0</td>\n",
       "      <td>6</td>\n",
       "    </tr>\n",
       "    <tr>\n",
       "      <td>1</td>\n",
       "      <td>1</td>\n",
       "      <td>359</td>\n",
       "      <td>71</td>\n",
       "      <td>4</td>\n",
       "      <td>136</td>\n",
       "      <td>0</td>\n",
       "      <td>6</td>\n",
       "    </tr>\n",
       "    <tr>\n",
       "      <td>2</td>\n",
       "      <td>1</td>\n",
       "      <td>375</td>\n",
       "      <td>39</td>\n",
       "      <td>4</td>\n",
       "      <td>38</td>\n",
       "      <td>0</td>\n",
       "      <td>6</td>\n",
       "    </tr>\n",
       "    <tr>\n",
       "      <td>3</td>\n",
       "      <td>1</td>\n",
       "      <td>264</td>\n",
       "      <td>66</td>\n",
       "      <td>5</td>\n",
       "      <td>90</td>\n",
       "      <td>0</td>\n",
       "      <td>6</td>\n",
       "    </tr>\n",
       "    <tr>\n",
       "      <td>4</td>\n",
       "      <td>1</td>\n",
       "      <td>367</td>\n",
       "      <td>152</td>\n",
       "      <td>4</td>\n",
       "      <td>166</td>\n",
       "      <td>0</td>\n",
       "      <td>6</td>\n",
       "    </tr>\n",
       "  </tbody>\n",
       "</table>\n",
       "</div>"
      ],
      "text/plain": [
       "   user_type  travel_time  idunplug_station  ageRange  idplug_station  \\\n",
       "0          1          219                90         0              66   \n",
       "1          1          359                71         4             136   \n",
       "2          1          375                39         4              38   \n",
       "3          1          264                66         5              90   \n",
       "4          1          367               152         4             166   \n",
       "\n",
       "   unplug_hour  unplug_weekday  \n",
       "0            0               6  \n",
       "1            0               6  \n",
       "2            0               6  \n",
       "3            0               6  \n",
       "4            0               6  "
      ]
     },
     "execution_count": 28,
     "metadata": {},
     "output_type": "execute_result"
    }
   ],
   "source": [
    "usage_df.head()"
   ]
  },
  {
   "cell_type": "markdown",
   "metadata": {},
   "source": [
    "# Análisis de datos"
   ]
  },
  {
   "cell_type": "markdown",
   "metadata": {},
   "source": [
    "## Duración de los trayectos\n",
    "\n",
    "Para analizar los tiempos de trayecto, pasamos de segundos a minutos la columna 'travel_time'.\n",
    "\n",
    "- La media de tiempo de uso de de 17,24 minutos\n",
    "- La desviación estandar es bastante alta: el tiempo mínimo es de 7 minutos, y el máximo de 11004 (7 días). Esto podría deberse a un fallo o pérdida."
   ]
  },
  {
   "cell_type": "code",
   "execution_count": 29,
   "metadata": {
    "scrolled": false
   },
   "outputs": [
    {
     "data": {
      "text/html": [
       "<div>\n",
       "<style scoped>\n",
       "    .dataframe tbody tr th:only-of-type {\n",
       "        vertical-align: middle;\n",
       "    }\n",
       "\n",
       "    .dataframe tbody tr th {\n",
       "        vertical-align: top;\n",
       "    }\n",
       "\n",
       "    .dataframe thead th {\n",
       "        text-align: right;\n",
       "    }\n",
       "</style>\n",
       "<table border=\"1\" class=\"dataframe\">\n",
       "  <thead>\n",
       "    <tr style=\"text-align: right;\">\n",
       "      <th></th>\n",
       "      <th>user_type</th>\n",
       "      <th>travel_time</th>\n",
       "      <th>idunplug_station</th>\n",
       "      <th>ageRange</th>\n",
       "      <th>idplug_station</th>\n",
       "      <th>unplug_hour</th>\n",
       "      <th>unplug_weekday</th>\n",
       "    </tr>\n",
       "  </thead>\n",
       "  <tbody>\n",
       "    <tr>\n",
       "      <td>0</td>\n",
       "      <td>1</td>\n",
       "      <td>3.650000</td>\n",
       "      <td>90</td>\n",
       "      <td>0</td>\n",
       "      <td>66</td>\n",
       "      <td>0</td>\n",
       "      <td>6</td>\n",
       "    </tr>\n",
       "    <tr>\n",
       "      <td>1</td>\n",
       "      <td>1</td>\n",
       "      <td>5.983333</td>\n",
       "      <td>71</td>\n",
       "      <td>4</td>\n",
       "      <td>136</td>\n",
       "      <td>0</td>\n",
       "      <td>6</td>\n",
       "    </tr>\n",
       "    <tr>\n",
       "      <td>2</td>\n",
       "      <td>1</td>\n",
       "      <td>6.250000</td>\n",
       "      <td>39</td>\n",
       "      <td>4</td>\n",
       "      <td>38</td>\n",
       "      <td>0</td>\n",
       "      <td>6</td>\n",
       "    </tr>\n",
       "    <tr>\n",
       "      <td>3</td>\n",
       "      <td>1</td>\n",
       "      <td>4.400000</td>\n",
       "      <td>66</td>\n",
       "      <td>5</td>\n",
       "      <td>90</td>\n",
       "      <td>0</td>\n",
       "      <td>6</td>\n",
       "    </tr>\n",
       "    <tr>\n",
       "      <td>4</td>\n",
       "      <td>1</td>\n",
       "      <td>6.116667</td>\n",
       "      <td>152</td>\n",
       "      <td>4</td>\n",
       "      <td>166</td>\n",
       "      <td>0</td>\n",
       "      <td>6</td>\n",
       "    </tr>\n",
       "  </tbody>\n",
       "</table>\n",
       "</div>"
      ],
      "text/plain": [
       "   user_type  travel_time  idunplug_station  ageRange  idplug_station  \\\n",
       "0          1     3.650000                90         0              66   \n",
       "1          1     5.983333                71         4             136   \n",
       "2          1     6.250000                39         4              38   \n",
       "3          1     4.400000                66         5              90   \n",
       "4          1     6.116667               152         4             166   \n",
       "\n",
       "   unplug_hour  unplug_weekday  \n",
       "0            0               6  \n",
       "1            0               6  \n",
       "2            0               6  \n",
       "3            0               6  \n",
       "4            0               6  "
      ]
     },
     "execution_count": 29,
     "metadata": {},
     "output_type": "execute_result"
    }
   ],
   "source": [
    "usage_df['travel_time'] = usage_df['travel_time']/60\n",
    "usage_df.head(5)"
   ]
  },
  {
   "cell_type": "code",
   "execution_count": 30,
   "metadata": {},
   "outputs": [
    {
     "data": {
      "text/plain": [
       "count    450811.000000\n",
       "mean         17.240246\n",
       "std          59.668311\n",
       "min           0.000000\n",
       "25%           7.833333\n",
       "50%          11.716667\n",
       "75%          17.533333\n",
       "max       11004.283333\n",
       "Name: travel_time, dtype: float64"
      ]
     },
     "execution_count": 30,
     "metadata": {},
     "output_type": "execute_result"
    }
   ],
   "source": [
    "usage_df['travel_time'].describe()"
   ]
  },
  {
   "cell_type": "code",
   "execution_count": 31,
   "metadata": {},
   "outputs": [],
   "source": [
    "import numpy as np \n",
    "import matplotlib as mpl \n",
    "import matplotlib.pyplot as plt "
   ]
  },
  {
   "cell_type": "code",
   "execution_count": 32,
   "metadata": {
    "scrolled": true
   },
   "outputs": [
    {
     "data": {
      "text/plain": [
       "<matplotlib.axes._subplots.AxesSubplot at 0x7f2a25f06610>"
      ]
     },
     "execution_count": 32,
     "metadata": {},
     "output_type": "execute_result"
    },
    {
     "data": {
      "image/png": "[encoded data removed]",
      "text/plain": [
       "<Figure size 432x288 with 1 Axes>"
      ]
     },
     "metadata": {
      "needs_background": "light"
     },
     "output_type": "display_data"
    }
   ],
   "source": [
    "df_non_extreme_travel_times = usage_df.loc[usage_df['travel_time'] > 0]\n",
    "df_non_extreme_travel_times.boxplot(column='travel_time')"
   ]
  },
  {
   "cell_type": "markdown",
   "metadata": {},
   "source": [
    "Cuartiles: **Q1 = 7.833333, Q3 = 17.533333**\n",
    "\n",
    "Rango intercuartílico (RI) = Q3 - Q1 = **9,7** min\n",
    "\n",
    "Atípicos: (Sólo hay por el lado derecho)\n",
    "    - LD = Q3 + 1.5RI = 32,083333\n",
    "Atípicos extremos:\n",
    "    - LD = Q3 + 3RI = 46,633333"
   ]
  },
  {
   "cell_type": "code",
   "execution_count": 33,
   "metadata": {},
   "outputs": [
    {
     "data": {
      "text/plain": [
       "user_type           34568\n",
       "travel_time         34568\n",
       "idunplug_station    34568\n",
       "ageRange            34568\n",
       "idplug_station      34568\n",
       "unplug_hour         34568\n",
       "unplug_weekday      34568\n",
       "dtype: int64"
      ]
     },
     "execution_count": 33,
     "metadata": {},
     "output_type": "execute_result"
    }
   ],
   "source": [
    "usage_df[usage_df['travel_time'] > 33].count()"
   ]
  },
  {
   "cell_type": "code",
   "execution_count": 34,
   "metadata": {
    "scrolled": false
   },
   "outputs": [
    {
     "data": {
      "text/plain": [
       "user_type           9\n",
       "travel_time         9\n",
       "idunplug_station    9\n",
       "ageRange            9\n",
       "idplug_station      9\n",
       "unplug_hour         9\n",
       "unplug_weekday      9\n",
       "dtype: int64"
      ]
     },
     "execution_count": 34,
     "metadata": {},
     "output_type": "execute_result"
    }
   ],
   "source": [
    "usage_df.loc[usage_df['travel_time'] > 6000].count()"
   ]
  },
  {
   "cell_type": "markdown",
   "metadata": {},
   "source": [
    "Observamos que hay alrededor de 21435 valores extremos, 9 de ellos de 4 días de duración (posiblemente debido a bicicletas perdidas o fallos en el sistema). Para que nuestro box-plot sea explicativo vamos a considerar sólo trayectos por debajo de una hora de duración:"
   ]
  },
  {
   "cell_type": "code",
   "execution_count": 35,
   "metadata": {
    "scrolled": false
   },
   "outputs": [
    {
     "data": {
      "text/plain": [
       "<matplotlib.axes._subplots.AxesSubplot at 0x7f2a25e5fa10>"
      ]
     },
     "execution_count": 35,
     "metadata": {},
     "output_type": "execute_result"
    },
    {
     "data": {
      "image/png": "[encoded data removed]",
      "text/plain": [
       "<Figure size 432x288 with 1 Axes>"
      ]
     },
     "metadata": {
      "needs_background": "light"
     },
     "output_type": "display_data"
    }
   ],
   "source": [
    "df_non_extreme_travel_times = usage_df.loc[usage_df['travel_time'] < 60]\n",
    "df_non_extreme_travel_times.boxplot(column='travel_time')"
   ]
  },
  {
   "cell_type": "markdown",
   "metadata": {},
   "source": [
    "#### Análisis de trayectos con la misma estación de desenganche y enganche"
   ]
  },
  {
   "cell_type": "code",
   "execution_count": 36,
   "metadata": {},
   "outputs": [
    {
     "data": {
      "text/plain": [
       "180"
      ]
     },
     "execution_count": 36,
     "metadata": {},
     "output_type": "execute_result"
    }
   ],
   "source": [
    "usage_df['idunplug_station'].unique().size\n",
    "#180 valores únicos"
   ]
  },
  {
   "cell_type": "code",
   "execution_count": 37,
   "metadata": {
    "scrolled": false
   },
   "outputs": [
    {
     "data": {
      "text/plain": [
       "user_type           16336\n",
       "travel_time         16336\n",
       "idunplug_station    16336\n",
       "ageRange            16336\n",
       "idplug_station      16336\n",
       "unplug_hour         16336\n",
       "unplug_weekday      16336\n",
       "dtype: int64"
      ]
     },
     "execution_count": 37,
     "metadata": {},
     "output_type": "execute_result"
    }
   ],
   "source": [
    "misma_estacion = usage_df[usage_df['idunplug_station'] == usage_df['idplug_station']]\n",
    "misma_estacion.count()"
   ]
  },
  {
   "cell_type": "markdown",
   "metadata": {},
   "source": [
    "Hay 16336 casos en los que la bici se engancha y desengancha en la misma estación. Podría tratarse de las personas que cogen la bici cerca de casa para realizar actividades rutinarias para las que deben volver (por ejemplo hacer la compra)."
   ]
  },
  {
   "cell_type": "code",
   "execution_count": 38,
   "metadata": {
    "scrolled": true
   },
   "outputs": [
    {
     "data": {
      "text/plain": [
       "135     363\n",
       "6       355\n",
       "64      331\n",
       "175     298\n",
       "58      280\n",
       "       ... \n",
       "112      18\n",
       "144      17\n",
       "173      16\n",
       "85       12\n",
       "2008      6\n",
       "Name: idunplug_station, Length: 180, dtype: int64"
      ]
     },
     "execution_count": 38,
     "metadata": {},
     "output_type": "execute_result"
    }
   ],
   "source": [
    "misma_estacion['idunplug_station'].value_counts()"
   ]
  },
  {
   "cell_type": "code",
   "execution_count": 39,
   "metadata": {
    "scrolled": true
   },
   "outputs": [
    {
     "data": {
      "text/plain": [
       "1    9083\n",
       "3    6721\n",
       "2     532\n",
       "Name: user_type, dtype: int64"
      ]
     },
     "execution_count": 39,
     "metadata": {},
     "output_type": "execute_result"
    }
   ],
   "source": [
    "misma_estacion['user_type'].value_counts()"
   ]
  },
  {
   "cell_type": "markdown",
   "metadata": {},
   "source": [
    "6721 de 26314 empleados cogen y dejan la bici en la misma estación.\n",
    "\n",
    "La estación en la que más ocurre que se engancha y desengancha la bici en ella misma es la 135, con 363 casos.\n",
    "\n",
    "Analizamos los tiempos de trayecto de los usuarios 1 y 2:"
   ]
  },
  {
   "cell_type": "code",
   "execution_count": 40,
   "metadata": {},
   "outputs": [],
   "source": [
    "misma_estacion = misma_estacion.loc[(usage_df.user_type == 1) | (usage_df.user_type == 2)]"
   ]
  },
  {
   "cell_type": "code",
   "execution_count": 41,
   "metadata": {},
   "outputs": [
    {
     "data": {
      "text/plain": [
       "1    9083\n",
       "2     532\n",
       "Name: user_type, dtype: int64"
      ]
     },
     "execution_count": 41,
     "metadata": {},
     "output_type": "execute_result"
    }
   ],
   "source": [
    "misma_estacion['user_type'].value_counts()"
   ]
  },
  {
   "cell_type": "code",
   "execution_count": 64,
   "metadata": {},
   "outputs": [
    {
     "data": {
      "text/html": [
       "<div>\n",
       "<style scoped>\n",
       "    .dataframe tbody tr th:only-of-type {\n",
       "        vertical-align: middle;\n",
       "    }\n",
       "\n",
       "    .dataframe tbody tr th {\n",
       "        vertical-align: top;\n",
       "    }\n",
       "\n",
       "    .dataframe thead th {\n",
       "        text-align: right;\n",
       "    }\n",
       "</style>\n",
       "<table border=\"1\" class=\"dataframe\">\n",
       "  <thead>\n",
       "    <tr style=\"text-align: right;\">\n",
       "      <th></th>\n",
       "      <th>count</th>\n",
       "      <th>mean</th>\n",
       "      <th>std</th>\n",
       "      <th>min</th>\n",
       "      <th>25%</th>\n",
       "      <th>50%</th>\n",
       "      <th>75%</th>\n",
       "      <th>max</th>\n",
       "    </tr>\n",
       "    <tr>\n",
       "      <th>user_type</th>\n",
       "      <th></th>\n",
       "      <th></th>\n",
       "      <th></th>\n",
       "      <th></th>\n",
       "      <th></th>\n",
       "      <th></th>\n",
       "      <th></th>\n",
       "      <th></th>\n",
       "    </tr>\n",
       "  </thead>\n",
       "  <tbody>\n",
       "    <tr>\n",
       "      <td>1</td>\n",
       "      <td>9083.0</td>\n",
       "      <td>41.356767</td>\n",
       "      <td>42.176580</td>\n",
       "      <td>5.000000</td>\n",
       "      <td>15.483333</td>\n",
       "      <td>27.366667</td>\n",
       "      <td>52.391667</td>\n",
       "      <td>352.933333</td>\n",
       "    </tr>\n",
       "    <tr>\n",
       "      <td>2</td>\n",
       "      <td>532.0</td>\n",
       "      <td>67.537688</td>\n",
       "      <td>57.662148</td>\n",
       "      <td>5.083333</td>\n",
       "      <td>27.200000</td>\n",
       "      <td>56.566667</td>\n",
       "      <td>87.791667</td>\n",
       "      <td>337.066667</td>\n",
       "    </tr>\n",
       "  </tbody>\n",
       "</table>\n",
       "</div>"
      ],
      "text/plain": [
       "            count       mean        std       min        25%        50%  \\\n",
       "user_type                                                                 \n",
       "1          9083.0  41.356767  42.176580  5.000000  15.483333  27.366667   \n",
       "2           532.0  67.537688  57.662148  5.083333  27.200000  56.566667   \n",
       "\n",
       "                 75%         max  \n",
       "user_type                         \n",
       "1          52.391667  352.933333  \n",
       "2          87.791667  337.066667  "
      ]
     },
     "execution_count": 64,
     "metadata": {},
     "output_type": "execute_result"
    }
   ],
   "source": [
    "misma_estacion.groupby('user_type')['travel_time'].describe()"
   ]
  },
  {
   "cell_type": "markdown",
   "metadata": {},
   "source": [
    "El tiempo mínimo de trayecto es de 5 minutos, y el mayor de casi 6 horas."
   ]
  },
  {
   "cell_type": "markdown",
   "metadata": {},
   "source": [
    "La media de tiempo de trayecto para los usuarios 1 y 2 que cogen y dejan la bici en la misma estación es de 42 y 68 minutos, respectivamente. Mientras que los valores máximos, en ambos casos, superan las 5 horas. (Habría que analizar los valores extremos y ver si pudiese tratarse de valores erróneos)."
   ]
  },
  {
   "cell_type": "markdown",
   "metadata": {},
   "source": [
    "## Uso de bicis por hora"
   ]
  },
  {
   "cell_type": "code",
   "execution_count": 43,
   "metadata": {},
   "outputs": [
    {
     "data": {
      "text/html": [
       "<div>\n",
       "<style scoped>\n",
       "    .dataframe tbody tr th:only-of-type {\n",
       "        vertical-align: middle;\n",
       "    }\n",
       "\n",
       "    .dataframe tbody tr th {\n",
       "        vertical-align: top;\n",
       "    }\n",
       "\n",
       "    .dataframe thead th {\n",
       "        text-align: right;\n",
       "    }\n",
       "</style>\n",
       "<table border=\"1\" class=\"dataframe\">\n",
       "  <thead>\n",
       "    <tr style=\"text-align: right;\">\n",
       "      <th></th>\n",
       "      <th>unplug_hour</th>\n",
       "    </tr>\n",
       "  </thead>\n",
       "  <tbody>\n",
       "    <tr>\n",
       "      <td>0</td>\n",
       "      <td>13731</td>\n",
       "    </tr>\n",
       "    <tr>\n",
       "      <td>1</td>\n",
       "      <td>10012</td>\n",
       "    </tr>\n",
       "    <tr>\n",
       "      <td>2</td>\n",
       "      <td>7097</td>\n",
       "    </tr>\n",
       "    <tr>\n",
       "      <td>3</td>\n",
       "      <td>4343</td>\n",
       "    </tr>\n",
       "    <tr>\n",
       "      <td>4</td>\n",
       "      <td>3141</td>\n",
       "    </tr>\n",
       "    <tr>\n",
       "      <td>5</td>\n",
       "      <td>2321</td>\n",
       "    </tr>\n",
       "    <tr>\n",
       "      <td>6</td>\n",
       "      <td>3796</td>\n",
       "    </tr>\n",
       "    <tr>\n",
       "      <td>7</td>\n",
       "      <td>12704</td>\n",
       "    </tr>\n",
       "    <tr>\n",
       "      <td>8</td>\n",
       "      <td>27859</td>\n",
       "    </tr>\n",
       "    <tr>\n",
       "      <td>9</td>\n",
       "      <td>25339</td>\n",
       "    </tr>\n",
       "    <tr>\n",
       "      <td>10</td>\n",
       "      <td>16265</td>\n",
       "    </tr>\n",
       "    <tr>\n",
       "      <td>11</td>\n",
       "      <td>15356</td>\n",
       "    </tr>\n",
       "    <tr>\n",
       "      <td>12</td>\n",
       "      <td>17052</td>\n",
       "    </tr>\n",
       "    <tr>\n",
       "      <td>13</td>\n",
       "      <td>20716</td>\n",
       "    </tr>\n",
       "    <tr>\n",
       "      <td>14</td>\n",
       "      <td>28231</td>\n",
       "    </tr>\n",
       "    <tr>\n",
       "      <td>15</td>\n",
       "      <td>27881</td>\n",
       "    </tr>\n",
       "    <tr>\n",
       "      <td>16</td>\n",
       "      <td>25124</td>\n",
       "    </tr>\n",
       "    <tr>\n",
       "      <td>17</td>\n",
       "      <td>27019</td>\n",
       "    </tr>\n",
       "    <tr>\n",
       "      <td>18</td>\n",
       "      <td>35209</td>\n",
       "    </tr>\n",
       "    <tr>\n",
       "      <td>19</td>\n",
       "      <td>37008</td>\n",
       "    </tr>\n",
       "    <tr>\n",
       "      <td>20</td>\n",
       "      <td>32448</td>\n",
       "    </tr>\n",
       "    <tr>\n",
       "      <td>21</td>\n",
       "      <td>25447</td>\n",
       "    </tr>\n",
       "    <tr>\n",
       "      <td>22</td>\n",
       "      <td>17111</td>\n",
       "    </tr>\n",
       "    <tr>\n",
       "      <td>23</td>\n",
       "      <td>15601</td>\n",
       "    </tr>\n",
       "  </tbody>\n",
       "</table>\n",
       "</div>"
      ],
      "text/plain": [
       "    unplug_hour\n",
       "0         13731\n",
       "1         10012\n",
       "2          7097\n",
       "3          4343\n",
       "4          3141\n",
       "5          2321\n",
       "6          3796\n",
       "7         12704\n",
       "8         27859\n",
       "9         25339\n",
       "10        16265\n",
       "11        15356\n",
       "12        17052\n",
       "13        20716\n",
       "14        28231\n",
       "15        27881\n",
       "16        25124\n",
       "17        27019\n",
       "18        35209\n",
       "19        37008\n",
       "20        32448\n",
       "21        25447\n",
       "22        17111\n",
       "23        15601"
      ]
     },
     "execution_count": 43,
     "metadata": {},
     "output_type": "execute_result"
    }
   ],
   "source": [
    "time_list = usage_df['unplug_hour'].value_counts()\n",
    "time_counts = pd.DataFrame(time_list)\n",
    "time_counts.sort_index(inplace=True)\n",
    "time_counts"
   ]
  },
  {
   "cell_type": "markdown",
   "metadata": {},
   "source": [
    "Vemos que la hora punta son las 19:00, y la de menos ocupación las 05:00"
   ]
  },
  {
   "cell_type": "code",
   "execution_count": 44,
   "metadata": {},
   "outputs": [
    {
     "data": {
      "image/png": "[encoded data removed]",
      "text/plain": [
       "<Figure size 432x288 with 1 Axes>"
      ]
     },
     "metadata": {
      "needs_background": "light"
     },
     "output_type": "display_data"
    }
   ],
   "source": [
    "# Make a fake dataset:\n",
    "time = time_counts['unplug_hour']\n",
    "bars = time_counts.index\n",
    "y_pos = np.arange(len(bars))\n",
    " \n",
    "# Create bars\n",
    "plt.bar(y_pos, time)\n",
    " \n",
    "# Create names on the x-axis\n",
    "plt.xticks(y_pos, bars, rotation=90)\n",
    "\n",
    "# Show graphic\n",
    "plt.show()"
   ]
  },
  {
   "cell_type": "code",
   "execution_count": 45,
   "metadata": {
    "scrolled": true
   },
   "outputs": [
    {
     "data": {
      "text/plain": [
       "count    450811.000000\n",
       "mean         14.107489\n",
       "std           5.966935\n",
       "min           0.000000\n",
       "25%          10.000000\n",
       "50%          15.000000\n",
       "75%          19.000000\n",
       "max          23.000000\n",
       "Name: unplug_hour, dtype: float64"
      ]
     },
     "execution_count": 45,
     "metadata": {},
     "output_type": "execute_result"
    }
   ],
   "source": [
    "usage_df['unplug_hour'].describe()"
   ]
  },
  {
   "cell_type": "markdown",
   "metadata": {},
   "source": [
    "## Uso según el tipo de usuario\n",
    "\n",
    "- 1: usuario anual\n",
    "- 2: usuario ocasional\n",
    "- 3: trabajador de la empresa\n",
    "\n",
    "Vemos que el grupo que de más frecuencia de uso es el usuario anual. Sin embargo, este es el que realiza los trayectos de menor duración de media (15 minutos), frente a los usuarios ocasionales (40 minutos). Esto puede deberse a que el primer grupo se constituya por la gente que ba en bici al trabajo, hacer la compra, actividades rutinarias."
   ]
  },
  {
   "cell_type": "code",
   "execution_count": 46,
   "metadata": {
    "scrolled": true
   },
   "outputs": [
    {
     "data": {
      "text/html": [
       "<div>\n",
       "<style scoped>\n",
       "    .dataframe tbody tr th:only-of-type {\n",
       "        vertical-align: middle;\n",
       "    }\n",
       "\n",
       "    .dataframe tbody tr th {\n",
       "        vertical-align: top;\n",
       "    }\n",
       "\n",
       "    .dataframe thead th {\n",
       "        text-align: right;\n",
       "    }\n",
       "</style>\n",
       "<table border=\"1\" class=\"dataframe\">\n",
       "  <thead>\n",
       "    <tr style=\"text-align: right;\">\n",
       "      <th>col_0</th>\n",
       "      <th>count</th>\n",
       "    </tr>\n",
       "    <tr>\n",
       "      <th>user_type</th>\n",
       "      <th></th>\n",
       "    </tr>\n",
       "  </thead>\n",
       "  <tbody>\n",
       "    <tr>\n",
       "      <td>1</td>\n",
       "      <td>92.89</td>\n",
       "    </tr>\n",
       "    <tr>\n",
       "      <td>3</td>\n",
       "      <td>5.84</td>\n",
       "    </tr>\n",
       "    <tr>\n",
       "      <td>2</td>\n",
       "      <td>1.27</td>\n",
       "    </tr>\n",
       "  </tbody>\n",
       "</table>\n",
       "</div>"
      ],
      "text/plain": [
       "col_0      count\n",
       "user_type       \n",
       "1          92.89\n",
       "3           5.84\n",
       "2           1.27"
      ]
     },
     "execution_count": 46,
     "metadata": {},
     "output_type": "execute_result"
    }
   ],
   "source": [
    "round(((pd.crosstab(index=usage_df[\"user_type\"],columns=\"count\").sort_values(by='count', ascending=False))/usage_df.user_type.count())*100, 2)"
   ]
  },
  {
   "cell_type": "code",
   "execution_count": 47,
   "metadata": {
    "scrolled": true
   },
   "outputs": [
    {
     "data": {
      "text/html": [
       "<div>\n",
       "<style scoped>\n",
       "    .dataframe tbody tr th:only-of-type {\n",
       "        vertical-align: middle;\n",
       "    }\n",
       "\n",
       "    .dataframe tbody tr th {\n",
       "        vertical-align: top;\n",
       "    }\n",
       "\n",
       "    .dataframe thead th {\n",
       "        text-align: right;\n",
       "    }\n",
       "</style>\n",
       "<table border=\"1\" class=\"dataframe\">\n",
       "  <thead>\n",
       "    <tr style=\"text-align: right;\">\n",
       "      <th></th>\n",
       "      <th>travel_time</th>\n",
       "    </tr>\n",
       "    <tr>\n",
       "      <th>user_type</th>\n",
       "      <th></th>\n",
       "    </tr>\n",
       "  </thead>\n",
       "  <tbody>\n",
       "    <tr>\n",
       "      <td>1</td>\n",
       "      <td>14.999532</td>\n",
       "    </tr>\n",
       "    <tr>\n",
       "      <td>2</td>\n",
       "      <td>41.094281</td>\n",
       "    </tr>\n",
       "    <tr>\n",
       "      <td>3</td>\n",
       "      <td>47.697213</td>\n",
       "    </tr>\n",
       "  </tbody>\n",
       "</table>\n",
       "</div>"
      ],
      "text/plain": [
       "           travel_time\n",
       "user_type             \n",
       "1            14.999532\n",
       "2            41.094281\n",
       "3            47.697213"
      ]
     },
     "execution_count": 47,
     "metadata": {},
     "output_type": "execute_result"
    }
   ],
   "source": [
    "file = pd.DataFrame(usage_df.groupby(['user_type'])['travel_time'].mean())\n",
    "file.head()"
   ]
  },
  {
   "cell_type": "markdown",
   "metadata": {},
   "source": [
    "# Conclusiones y más limpieza"
   ]
  },
  {
   "cell_type": "markdown",
   "metadata": {},
   "source": [
    "- Quitar las filas menos significativas (valores extremos, errores, empleados)"
   ]
  },
  {
   "cell_type": "markdown",
   "metadata": {},
   "source": [
    "# Correlación de variables"
   ]
  },
  {
   "cell_type": "code",
   "execution_count": 48,
   "metadata": {},
   "outputs": [
    {
     "data": {
      "text/html": [
       "<div>\n",
       "<style scoped>\n",
       "    .dataframe tbody tr th:only-of-type {\n",
       "        vertical-align: middle;\n",
       "    }\n",
       "\n",
       "    .dataframe tbody tr th {\n",
       "        vertical-align: top;\n",
       "    }\n",
       "\n",
       "    .dataframe thead th {\n",
       "        text-align: right;\n",
       "    }\n",
       "</style>\n",
       "<table border=\"1\" class=\"dataframe\">\n",
       "  <thead>\n",
       "    <tr style=\"text-align: right;\">\n",
       "      <th></th>\n",
       "      <th>user_type</th>\n",
       "      <th>travel_time</th>\n",
       "      <th>idunplug_station</th>\n",
       "      <th>ageRange</th>\n",
       "      <th>idplug_station</th>\n",
       "      <th>unplug_hour</th>\n",
       "      <th>unplug_weekday</th>\n",
       "    </tr>\n",
       "  </thead>\n",
       "  <tbody>\n",
       "    <tr>\n",
       "      <td>user_type</td>\n",
       "      <td>1.000000</td>\n",
       "      <td>0.135024</td>\n",
       "      <td>0.059032</td>\n",
       "      <td>0.008933</td>\n",
       "      <td>0.049995</td>\n",
       "      <td>-0.055964</td>\n",
       "      <td>0.015956</td>\n",
       "    </tr>\n",
       "    <tr>\n",
       "      <td>travel_time</td>\n",
       "      <td>0.135024</td>\n",
       "      <td>1.000000</td>\n",
       "      <td>0.012026</td>\n",
       "      <td>-0.020478</td>\n",
       "      <td>0.017147</td>\n",
       "      <td>-0.003459</td>\n",
       "      <td>0.023412</td>\n",
       "    </tr>\n",
       "    <tr>\n",
       "      <td>idunplug_station</td>\n",
       "      <td>0.059032</td>\n",
       "      <td>0.012026</td>\n",
       "      <td>1.000000</td>\n",
       "      <td>-0.007310</td>\n",
       "      <td>0.104587</td>\n",
       "      <td>0.013753</td>\n",
       "      <td>-0.030057</td>\n",
       "    </tr>\n",
       "    <tr>\n",
       "      <td>ageRange</td>\n",
       "      <td>0.008933</td>\n",
       "      <td>-0.020478</td>\n",
       "      <td>-0.007310</td>\n",
       "      <td>1.000000</td>\n",
       "      <td>-0.011310</td>\n",
       "      <td>-0.012859</td>\n",
       "      <td>-0.052449</td>\n",
       "    </tr>\n",
       "    <tr>\n",
       "      <td>idplug_station</td>\n",
       "      <td>0.049995</td>\n",
       "      <td>0.017147</td>\n",
       "      <td>0.104587</td>\n",
       "      <td>-0.011310</td>\n",
       "      <td>1.000000</td>\n",
       "      <td>-0.036639</td>\n",
       "      <td>-0.020561</td>\n",
       "    </tr>\n",
       "    <tr>\n",
       "      <td>unplug_hour</td>\n",
       "      <td>-0.055964</td>\n",
       "      <td>-0.003459</td>\n",
       "      <td>0.013753</td>\n",
       "      <td>-0.012859</td>\n",
       "      <td>-0.036639</td>\n",
       "      <td>1.000000</td>\n",
       "      <td>-0.060701</td>\n",
       "    </tr>\n",
       "    <tr>\n",
       "      <td>unplug_weekday</td>\n",
       "      <td>0.015956</td>\n",
       "      <td>0.023412</td>\n",
       "      <td>-0.030057</td>\n",
       "      <td>-0.052449</td>\n",
       "      <td>-0.020561</td>\n",
       "      <td>-0.060701</td>\n",
       "      <td>1.000000</td>\n",
       "    </tr>\n",
       "  </tbody>\n",
       "</table>\n",
       "</div>"
      ],
      "text/plain": [
       "                  user_type  travel_time  idunplug_station  ageRange  \\\n",
       "user_type          1.000000     0.135024          0.059032  0.008933   \n",
       "travel_time        0.135024     1.000000          0.012026 -0.020478   \n",
       "idunplug_station   0.059032     0.012026          1.000000 -0.007310   \n",
       "ageRange           0.008933    -0.020478         -0.007310  1.000000   \n",
       "idplug_station     0.049995     0.017147          0.104587 -0.011310   \n",
       "unplug_hour       -0.055964    -0.003459          0.013753 -0.012859   \n",
       "unplug_weekday     0.015956     0.023412         -0.030057 -0.052449   \n",
       "\n",
       "                  idplug_station  unplug_hour  unplug_weekday  \n",
       "user_type               0.049995    -0.055964        0.015956  \n",
       "travel_time             0.017147    -0.003459        0.023412  \n",
       "idunplug_station        0.104587     0.013753       -0.030057  \n",
       "ageRange               -0.011310    -0.012859       -0.052449  \n",
       "idplug_station          1.000000    -0.036639       -0.020561  \n",
       "unplug_hour            -0.036639     1.000000       -0.060701  \n",
       "unplug_weekday         -0.020561    -0.060701        1.000000  "
      ]
     },
     "execution_count": 48,
     "metadata": {},
     "output_type": "execute_result"
    }
   ],
   "source": [
    "usage_df.corr()"
   ]
  },
  {
   "cell_type": "code",
   "execution_count": 49,
   "metadata": {
    "scrolled": false
   },
   "outputs": [
    {
     "data": {
      "text/plain": [
       "<matplotlib.image.AxesImage at 0x7f2a25be85d0>"
      ]
     },
     "execution_count": 49,
     "metadata": {},
     "output_type": "execute_result"
    },
    {
     "data": {
      "image/png": "[encoded data removed]",
      "text/plain": [
       "<Figure size 288x288 with 1 Axes>"
      ]
     },
     "metadata": {
      "needs_background": "light"
     },
     "output_type": "display_data"
    }
   ],
   "source": [
    "plt.matshow(usage_df.corr())"
   ]
  },
  {
   "cell_type": "markdown",
   "metadata": {},
   "source": [
    "- Número de veces que un usuario es propenso a coger la bici en el mismo día\n",
    "- Estación de destino en función a todo lo demás (age range, tipo, plug station, travel time...)\n",
    "- Qué hacer con los ZIP CODES:\n",
    "    - filtrar los de madrid (28xxx) y ver si el codigo postal del usuario se corresponde con el de la estación\n"
   ]
  },
  {
   "cell_type": "code",
   "execution_count": 50,
   "metadata": {},
   "outputs": [],
   "source": [
    "#usage_df.to_csv('cleanData_v3.csv')"
   ]
  }
 ],
 "metadata": {
  "kernelspec": {
   "display_name": "Python 3",
   "language": "python",
   "name": "python3"
  },
  "language_info": {
   "codemirror_mode": {
    "name": "ipython",
    "version": 3
   },
   "file_extension": ".py",
   "mimetype": "text/x-python",
   "name": "python",
   "nbconvert_exporter": "python",
   "pygments_lexer": "ipython3",
   "version": "3.7.4"
  }
 },
 "nbformat": 4,
 "nbformat_minor": 2
}
